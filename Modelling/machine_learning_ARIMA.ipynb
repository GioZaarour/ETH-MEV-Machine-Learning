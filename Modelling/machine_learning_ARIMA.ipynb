{
 "cells": [
  {
   "cell_type": "code",
   "execution_count": 1,
   "metadata": {},
   "outputs": [],
   "source": [
    "import itertools\n",
    "import warnings\n",
    "from statsmodels.tsa.arima.model import ARIMA\n",
    "from statsmodels.tsa.stattools import adfuller\n",
    "import pandas as pd\n",
    "from sklearn.model_selection import train_test_split, GridSearchCV\n",
    "from sklearn.ensemble import RandomForestRegressor\n",
    "from sklearn.metrics import mean_squared_error\n",
    "from math import sqrt"
   ]
  },
  {
   "cell_type": "code",
   "execution_count": 2,
   "metadata": {},
   "outputs": [],
   "source": [
    "df_blocks = pd.read_csv('../Data/block_data_ready_cleaned_timeseries.csv')\n",
    "\n",
    "df_blocks.sort_values('block_timestamp', inplace=True)\n",
    "\n",
    "df_blocks.set_index('block_timestamp', inplace=True)\n",
    "\n",
    "ts = df_blocks['proposer_total_reward_in_eth'].dropna()\n"
   ]
  },
  {
   "cell_type": "code",
   "execution_count": 3,
   "metadata": {},
   "outputs": [
    {
     "name": "stderr",
     "output_type": "stream",
     "text": [
      "c:\\Python310\\lib\\site-packages\\statsmodels\\tsa\\base\\tsa_model.py:473: ValueWarning: A date index has been provided, but it has no associated frequency information and so will be ignored when e.g. forecasting.\n",
      "  self._init_dates(dates, freq)\n",
      "c:\\Python310\\lib\\site-packages\\statsmodels\\tsa\\base\\tsa_model.py:473: ValueWarning: A date index has been provided, but it has no associated frequency information and so will be ignored when e.g. forecasting.\n",
      "  self._init_dates(dates, freq)\n",
      "c:\\Python310\\lib\\site-packages\\statsmodels\\tsa\\base\\tsa_model.py:473: ValueWarning: A date index has been provided, but it has no associated frequency information and so will be ignored when e.g. forecasting.\n",
      "  self._init_dates(dates, freq)\n",
      "c:\\Python310\\lib\\site-packages\\statsmodels\\tsa\\base\\tsa_model.py:836: ValueWarning: No supported index is available. Prediction results will be given with an integer index beginning at `start`.\n",
      "  return get_prediction_index(\n",
      "c:\\Python310\\lib\\site-packages\\statsmodels\\tsa\\base\\tsa_model.py:836: FutureWarning: No supported index is available. In the next version, calling this method in a model without a supported index will result in an exception.\n",
      "  return get_prediction_index(\n"
     ]
    },
    {
     "name": "stdout",
     "output_type": "stream",
     "text": [
      "ARIMA Model RMSE: 2.535908084494488\n"
     ]
    }
   ],
   "source": [
    "# Selecting the target variable\n",
    "y = df_blocks['proposer_total_reward_in_eth']\n",
    "\n",
    "# Splitting the dataset into train and test sets\n",
    "split = int(len(y) * 0.8)\n",
    "train, test = y[0:split], y[split:len(y)]\n",
    "\n",
    "# Fit an ARIMA model\n",
    "# The order (p,d,q) needs to be determined using model diagnostics or domain knowledge\n",
    "model = ARIMA(train, order=(5,1,0)) # Example: order=(5,1,0)\n",
    "model_fit = model.fit()\n",
    "\n",
    "# Forecast\n",
    "forecast = model_fit.forecast(steps=len(test))\n",
    "\n",
    "# Evaluate the model\n",
    "rmse = sqrt(mean_squared_error(test, forecast))\n",
    "print(f'ARIMA Model RMSE: {rmse}')"
   ]
  },
  {
   "cell_type": "code",
   "execution_count": 13,
   "metadata": {},
   "outputs": [],
   "source": [
    "# Assuming df is your DataFrame and 'proposer_total_reward_in_eth' is your time series column\n",
    "ts = df_blocks['proposer_total_reward_in_eth'].dropna()  # Ensure no NaN values\n",
    "\n",
    "# Check for stationarity and determine 'd'\n",
    "def check_stationarity(timeseries):\n",
    "    result = adfuller(timeseries)\n",
    "    if result[1] > 0.05:\n",
    "        return 1  # Series is not stationary\n",
    "    else:\n",
    "        return 0  # Series is stationary\n",
    "\n",
    "d = check_stationarity(ts)\n",
    "\n",
    "# Define the p, d and q parameters to take any value between 0 and 2\n",
    "p = q = range(0, 3)\n",
    "\n",
    "# Generate all different combinations of p, d and q triplets\n",
    "pdq = list(itertools.product(p, [d], q))\n",
    "\n",
    "# Grid search for the optimal ARIMA parameters\n",
    "best_aic = float(\"inf\")\n",
    "best_pdq = None\n",
    "best_model = None"
   ]
  },
  {
   "cell_type": "code",
   "execution_count": 15,
   "metadata": {},
   "outputs": [
    {
     "name": "stdout",
     "output_type": "stream",
     "text": [
      "Best ARIMA(2, 0, 2) model - AIC:2047292.0072070062\n"
     ]
    }
   ],
   "source": [
    "#warnings.filterwarnings(\"ignore\")  # Suppress warnings\n",
    "\n",
    "for param in pdq:\n",
    "    try:\n",
    "        model = ARIMA(ts, order=param)\n",
    "        results = model.fit()\n",
    "        if results.aic < best_aic:\n",
    "            best_aic = results.aic\n",
    "            best_pdq = param\n",
    "            best_model = results\n",
    "    except:\n",
    "        continue\n",
    "\n",
    "print('Best ARIMA{} model - AIC:{}'.format(best_pdq, best_aic))"
   ]
  },
  {
   "cell_type": "code",
   "execution_count": 16,
   "metadata": {},
   "outputs": [
    {
     "name": "stdout",
     "output_type": "stream",
     "text": [
      "ARIMA Model RMSE: 2.5357580009008074\n"
     ]
    }
   ],
   "source": [
    "# Selecting the target variable\n",
    "y = df_blocks['proposer_total_reward_in_eth']\n",
    "\n",
    "# Splitting the dataset into train and test sets\n",
    "split = int(len(y) * 0.8)\n",
    "train, test = y[0:split], y[split:len(y)]\n",
    "\n",
    "# Fit an ARIMA model\n",
    "# The order (p,d,q) needs to be determined using model diagnostics or domain knowledge\n",
    "final_arima_model = ARIMA(train, order=(2,0,2)) # Example: order=(5,1,0)\n",
    "model_fit = final_arima_model.fit()\n",
    "\n",
    "# Forecast\n",
    "forecast = model_fit.forecast(steps=len(test))\n",
    "\n",
    "# Evaluate the model\n",
    "rmse = sqrt(mean_squared_error(test, forecast))\n",
    "print(f'ARIMA Model RMSE: {rmse}')"
   ]
  },
  {
   "cell_type": "code",
   "execution_count": null,
   "metadata": {},
   "outputs": [],
   "source": [
    "import matplotlib.pyplot as plt\n",
    "\n",
    "plt.figure(figsize=(10,6))\n",
    "plt.plot(train.index, train, label='Train')\n",
    "plt.plot(test.index, test, label='Test')\n",
    "plt.plot(test.index, forecast, label='Forecast', color='red')\n",
    "plt.legend()\n",
    "plt.show()"
   ]
  }
 ],
 "metadata": {
  "kernelspec": {
   "display_name": "Python 3",
   "language": "python",
   "name": "python3"
  },
  "language_info": {
   "codemirror_mode": {
    "name": "ipython",
    "version": 3
   },
   "file_extension": ".py",
   "mimetype": "text/x-python",
   "name": "python",
   "nbconvert_exporter": "python",
   "pygments_lexer": "ipython3",
   "version": "3.10.7"
  }
 },
 "nbformat": 4,
 "nbformat_minor": 2
}
