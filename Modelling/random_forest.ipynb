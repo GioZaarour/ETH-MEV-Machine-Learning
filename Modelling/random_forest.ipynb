{
  "cells": [
    {
      "cell_type": "code",
      "execution_count": null,
      "metadata": {
        "id": "2toKiPvMXHos"
      },
      "outputs": [],
      "source": [
        "import pandas as pd\n",
        "from sklearn.model_selection import train_test_split, GridSearchCV\n",
        "from sklearn.ensemble import RandomForestRegressor\n",
        "from sklearn.metrics import mean_squared_error\n",
        "from math import sqrt"
      ]
    },
    {
      "cell_type": "code",
      "execution_count": null,
      "metadata": {
        "id": "PC95ER25XHoz"
      },
      "outputs": [],
      "source": [
        "df = pd.read_csv('../Data/block_data_ready_cleaned.csv')\n",
        "\n",
        "df = df.dropna()"
      ]
    },
    {
      "cell_type": "code",
      "execution_count": null,
      "metadata": {
        "colab": {
          "base_uri": "https://localhost:8080/"
        },
        "id": "lHfp5TAvXHo1",
        "outputId": "dd7e6703-b278-47d0-c1ba-37ce140ac59a"
      },
      "outputs": [
        {
          "name": "stdout",
          "output_type": "stream",
          "text": [
            "Best Random Forest RMSE: 0.8473715183747568\n",
            "Best n_estimators: 100\n"
          ]
        }
      ],
      "source": [
        "# Select features and target\n",
        "features = ['gas_used', 'base_fee_per_gas_in_eth', 'validator_is_registered_with_relay',\n",
        "            'is_fb_builder', 'sandwiches_count', 'liquidations_count',\n",
        "            'sandwiched_swaps_count', 'arbitrages_count', 'hour_of_day',\n",
        "            'block_fullness', 'total_gas_fees', 'base_fee_change_percentage',\n",
        "            'network_demand']\n",
        "target = 'proposer_total_reward_in_eth'\n",
        "\n",
        "# Prepare the data\n",
        "X = df[features]\n",
        "y = df[target]\n",
        "\n",
        "# Split the data into training and testing sets\n",
        "X_train, X_test, y_train, y_test = train_test_split(X, y, test_size=0.2, random_state=42)\n",
        "\n",
        "# Define the hyperparameter grid\n",
        "param_grid = {\n",
        "    'n_estimators': [50, 100, 150]\n",
        "}\n",
        "\n",
        "# Initialize the Random Forest Regressor\n",
        "rf = RandomForestRegressor(random_state=42)\n",
        "\n",
        "# Initialize GridSearchCV\n",
        "grid_search = GridSearchCV(estimator=rf, param_grid=param_grid, cv=5, scoring='neg_mean_squared_error')\n",
        "\n",
        "# Fit GridSearchCV\n",
        "grid_search.fit(X_train, y_train)\n",
        "\n",
        "# Get the best estimator\n",
        "best_rf = grid_search.best_estimator_\n",
        "\n",
        "# Make predictions with the best estimator\n",
        "y_pred = best_rf.predict(X_test)\n",
        "\n",
        "# Evaluate the best estimator\n",
        "rmse = sqrt(mean_squared_error(y_test, y_pred))\n",
        "print(f'Best Random Forest RMSE: {rmse}')\n",
        "print(f'Best n_estimators: {best_rf.n_estimators}')"
      ]
    }
  ],
  "metadata": {
    "colab": {
      "provenance": []
    },
    "kernelspec": {
      "display_name": "Python 3",
      "language": "python",
      "name": "python3"
    },
    "language_info": {
      "codemirror_mode": {
        "name": "ipython",
        "version": 3
      },
      "file_extension": ".py",
      "mimetype": "text/x-python",
      "name": "python",
      "nbconvert_exporter": "python",
      "pygments_lexer": "ipython3",
      "version": "3.10.7"
    }
  },
  "nbformat": 4,
  "nbformat_minor": 0
}
